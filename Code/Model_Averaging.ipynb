{
 "cells": [
  {
   "cell_type": "code",
   "execution_count": null,
   "metadata": {},
   "outputs": [],
   "source": [
    "import numpy as np \n",
    "import pandas as pd \n",
    "import math\n",
    "import time \n",
    "import matplotlib.dates as mdates\n",
    "import matplotlib.ticker as ticker\n",
    "import datetime\n",
    "from datetime import date\n"
   ]
  },
  {
   "cell_type": "code",
   "execution_count": null,
   "metadata": {},
   "outputs": [],
   "source": [
    "columns = ['Province/State','Country','Target/Date','N','low95N','high95N',\n",
    "          'R','low95R','high95R','D','low95D','high95D','T','low95T','high95T',\n",
    "           'M','low95M','high95M','C','low95C','high95C']\n",
    "\n",
    "pred_days_ahead=[2,7,30]\n",
    "for i in pred_days_ahead:\n",
    "    #print(i)\n",
    "    #print(str(i))\n",
    "    #print(date.today().strftime('%Y-%m-%d'))\n",
    "    pred_arima=pd.read_csv('../Predictions/'+str(i)+'day_prediction/ARIMA/'+str(i)+'day_prediction_'+date.today().strftime('%Y-%m-%d')+'_arima.csv')\n",
    "    #pred_arima=pred_arima.drop(pred_arima.index[259]).reset_index()\n",
    "    pred_arima.head() \n",
    "    pred_exp=pd.read_csv('../Predictions/'+str(i)+'day_prediction/EXPONENTIAL_SMOOTHING/'+str(i)+'day_prediction_exp_smooth'+date.today().strftime('%Y-%m-%d')+'.csv')\n",
    "    #pred_exp=pred_exp.drop(pred_exp.index[259]).reset_index()\n",
    "    pred_exp.head()\n",
    "    \n",
    "    \n",
    "    pred_rf=pd.read_csv('../Predictions/'+str(i)+'day_prediction/RANDOM_FOREST/'+str(i)+'day_prediction_random_forest'+date.today().strftime('%Y-%m-%d')+'.csv')\n",
    "    pred_rf.head() \n",
    "    \n",
    "    pred_file = str(i)+\"day_prediction_\" +  date.today().strftime('%Y-%m-%d') + \".csv\"\n",
    "    \n",
    "    k = 0\n",
    "    for co in range(pred_arima.shape[0]):\n",
    "        total_predictions = pd.DataFrame(columns = columns)\n",
    "        \n",
    "        #if(pred_arima.at[co,'N']!='')\n",
    "        best_pred_confirmed=np.mean([pred_arima.at[co,'N'],pred_exp.at[co,'N'], pred_rf.at[co,'N']])\n",
    "        R_value=np.mean([pred_arima.at[co,'R'],pred_exp.at[co,'R'],pred_rf.at[co,'R']])\n",
    "        best_pred_deaths=np.mean([pred_arima.at[co,'D'],pred_exp.at[co,'D'],pred_rf.at[co,'D']])\n",
    "        mort_pred=best_pred_deaths/best_pred_confirmed\n",
    "        critical=np.mean([pred_arima.at[co,'C'],pred_exp.at[co,'C'],pred_rf.at[co,'C']])\n",
    "        \n",
    "        if (pd.notnull(pred_arima.at[co,'R']) and pd.notnull(pred_exp.at[co,'R']) and pd.notnull(pred_rf.at[co,'R'])):\n",
    "            R_value=int(np.mean([pred_arima.at[co,'R'],pred_exp.at[co,'R'], pred_rf.at[co,'R']]))\n",
    "        else:\n",
    "            R_value=''\n",
    "        k = k + 1\n",
    "        total_predictions = total_predictions.append({'Province/State': pred_arima.at[co,'Province/State'],\n",
    "                                                'Country': pred_arima.at[co,'Country'],\n",
    "                                                'Target/Date':pred_arima.at[co,'Target/Date'], \n",
    "                                                'N': int(best_pred_confirmed) ,\n",
    "                                                'low95N':pred_arima.at[co,'low95N'],\n",
    "                                                'high95N': pred_arima.at[co,'high95N'],\n",
    "                                                'R': R_value ,\n",
    "                                                'low95R' : pred_arima.at[co,'low95R'],\n",
    "                                                'high95R' :pred_arima.at[co,'high95R'],\n",
    "                                                'D': int(best_pred_deaths) ,\n",
    "                                                'low95D' : pred_arima.at[co,'low95D'],\n",
    "                                                'high95D': pred_arima.at[co,'high95D'],\n",
    "                                                'T': '',\n",
    "                                                'low95T' : '' ,\n",
    "                                                'high95T' : '',\n",
    "                                                'M': mort_pred,\n",
    "                                                'low95M': pred_arima.at[co,'low95M'],\n",
    "                                                'high95M': pred_arima.at[co,'high95M'] ,\n",
    "                                                'C': int(critical) ,\n",
    "                                                'low95C':  pred_arima.at[co,'low95C'] ,\n",
    "                                                'high95C': pred_arima.at[co,'high95C'] },ignore_index = True)\n",
    "    \n",
    "        if (k==1):\n",
    "            header = True\n",
    "        else:\n",
    "            header = False\n",
    "    \n",
    "        total_predictions.to_csv(pred_file, sep=',',index = False,  mode='a', header = header)\n",
    "    \n"
   ]
  },
  {
   "cell_type": "code",
   "execution_count": null,
   "metadata": {},
   "outputs": [],
   "source": [
    "#check if they contain the same countries:\n",
    "#l=(pred_arima['Country']==pred_exp['Country']).to_list()\n",
    "#all(l)"
   ]
  },
  {
   "cell_type": "code",
   "execution_count": null,
   "metadata": {},
   "outputs": [],
   "source": [
    "pred_arima=pd.read_csv('../Predictions/'+str(2)+'day_prediction/ARIMA/'+str(2)+'day_prediction_'+date.today().strftime('%Y-%m-%d')+'_arima.csv')"
   ]
  },
  {
   "cell_type": "code",
   "execution_count": null,
   "metadata": {},
   "outputs": [],
   "source": [
    "pred_exp=pd.read_csv('../Predictions/'+str(2)+'day_prediction/EXPONENTIAL_SMOOTHING/'+str(2)+'day_prediction_exp_smooth'+date.today().strftime('%Y-%m-%d')+'.csv')"
   ]
  },
  {
   "cell_type": "code",
   "execution_count": null,
   "metadata": {},
   "outputs": [],
   "source": [
    "pred_rf=pd.read_csv('../Predictions/'+str(2)+'day_prediction/RANDOM_FOREST/'+str(2)+'day_prediction_random_forest'+date.today().strftime('%Y-%m-%d')+'.csv')"
   ]
  },
  {
   "cell_type": "code",
   "execution_count": null,
   "metadata": {},
   "outputs": [],
   "source": [
    "#check if they contain the same countries:\n",
    "l=(pred_arima['Country']==pred_rf['Country']).to_list()\n",
    "all(l)"
   ]
  },
  {
   "cell_type": "code",
   "execution_count": null,
   "metadata": {},
   "outputs": [],
   "source": [
    "c1=pred_rf['Country']\n",
    "c2=pred_exp['Country']\n",
    "c3=pred_arima['Country']"
   ]
  },
  {
   "cell_type": "code",
   "execution_count": null,
   "metadata": {},
   "outputs": [],
   "source": [
    "pred_arima[259:]"
   ]
  },
  {
   "cell_type": "code",
   "execution_count": null,
   "metadata": {},
   "outputs": [],
   "source": [
    "pred_exp=pred_exp.drop(pred_exp.index[259]).reset_index()"
   ]
  },
  {
   "cell_type": "code",
   "execution_count": null,
   "metadata": {},
   "outputs": [],
   "source": [
    "c3[~c3.isin(c1)]"
   ]
  },
  {
   "cell_type": "code",
   "execution_count": null,
   "metadata": {},
   "outputs": [],
   "source": [
    "'Tajikistan' in c2.unique()"
   ]
  }
 ],
 "metadata": {
  "kernelspec": {
   "display_name": "Python 3",
   "language": "python",
   "name": "python3"
  },
  "language_info": {
   "codemirror_mode": {
    "name": "ipython",
    "version": 3
   },
   "file_extension": ".py",
   "mimetype": "text/x-python",
   "name": "python",
   "nbconvert_exporter": "python",
   "pygments_lexer": "ipython3",
   "version": "3.7.3"
  }
 },
 "nbformat": 4,
 "nbformat_minor": 2
}
